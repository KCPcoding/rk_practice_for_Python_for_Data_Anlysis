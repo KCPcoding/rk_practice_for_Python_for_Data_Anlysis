{
 "cells": [
  {
   "cell_type": "code",
   "execution_count": 2,
   "metadata": {
    "ExecuteTime": {
     "end_time": "2020-08-05T16:40:06.955632Z",
     "start_time": "2020-08-05T16:40:05.317686Z"
    }
   },
   "outputs": [],
   "source": [
    "# Standard data science libraries\n",
    "import pandas as pd\n",
    "import numpy as np\n",
    "# Visualization\n",
    "import matplotlib.pyplot as plt\n",
    "plt.style.use('bmh')\n",
    "# Options for pandas\n",
    "pd.options.display.max_columns = 20\n",
    "# Display all cell outputs\n",
    "from IPython.core.interactiveshell import InteractiveShell\n",
    "InteractiveShell.ast_node_interactivity = 'all'\n"
   ]
  },
  {
   "cell_type": "markdown",
   "metadata": {},
   "source": [
    "## Exercise 1 ##\n",
    "- import the NaN constant from `numpy` and create a nickname for it such as 'NA'\n",
    "- create a `Series` object using a list, using the nickname to include some missing values\n",
    "- create a new boolean series indicating which values are missing\n",
    "- use the boolean series to count the number of missing values\n",
    "- calculate the number of values that are not missing "
   ]
  },
  {
   "cell_type": "code",
   "execution_count": null,
   "metadata": {
    "ExecuteTime": {
     "end_time": "2020-08-04T20:52:06.274109Z",
     "start_time": "2020-08-04T20:52:06.258195Z"
    }
   },
   "outputs": [],
   "source": []
  },
  {
   "cell_type": "markdown",
   "metadata": {},
   "source": [
    "## Exercise 2 ##\n",
    "- create a `Series` object using a list\n",
    "- use the index label to set some elements to missing using `None`\n",
    "- select only elements that are not missing values\n",
    "- create a new series that excludes these missing values"
   ]
  },
  {
   "cell_type": "code",
   "execution_count": null,
   "metadata": {
    "ExecuteTime": {
     "end_time": "2020-08-04T20:57:11.222008Z",
     "start_time": "2020-08-04T20:57:11.201019Z"
    }
   },
   "outputs": [],
   "source": []
  },
  {
   "cell_type": "markdown",
   "metadata": {},
   "source": [
    "## Exercise 3 ##\n",
    "- create a `DataFrame` object, then set some subsets of values in different rows and columns to missing using `.loc[]` and `.iloc[]`\n",
    "- replace all the missing values in one row with the same value in place\n",
    "- replace all the missing values in one column with a different value in place\n",
    "- remove one of the columns with missing values in place using `.loc[]`\n",
    "- remove one of the columns with missing values in place using a dictionary\n",
    "- create a new dataframe by replacing() all remaining missing values with the mean value for their column (not in place)"
   ]
  },
  {
   "cell_type": "code",
   "execution_count": null,
   "metadata": {
    "ExecuteTime": {
     "end_time": "2020-08-04T23:30:35.019939Z",
     "start_time": "2020-08-04T23:30:34.906928Z"
    }
   },
   "outputs": [],
   "source": []
  },
  {
   "cell_type": "markdown",
   "metadata": {},
   "source": [
    "## Exercise 4 ##\n",
    "- load data from a file that includes some missing values into a `DataFrame`\n",
    "- drop any rows with all values missing\n",
    "- drop columns that have any values missing "
   ]
  },
  {
   "cell_type": "code",
   "execution_count": null,
   "metadata": {
    "ExecuteTime": {
     "end_time": "2020-08-05T00:09:16.904958Z",
     "start_time": "2020-08-05T00:09:16.794951Z"
    }
   },
   "outputs": [],
   "source": []
  },
  {
   "cell_type": "markdown",
   "metadata": {},
   "source": [
    "## Exercise 5 ##\n",
    "- load data from a file that includes some missing values into a `DataFrame`\n",
    "- use the `thresh=` parameter to drop records with less than a minimum number of non-missing values\n",
    "- use a dictionary to replace in the rest of the missing values"
   ]
  },
  {
   "cell_type": "code",
   "execution_count": null,
   "metadata": {
    "ExecuteTime": {
     "end_time": "2020-08-05T16:51:16.088875Z",
     "start_time": "2020-08-05T16:51:16.032869Z"
    }
   },
   "outputs": [],
   "source": []
  },
  {
   "cell_type": "markdown",
   "metadata": {},
   "source": [
    "## Exercise 6 ##\n",
    "- create a `Series` object with duplicate values\n",
    "- create a new boolean series indicating duplicate values\n",
    "- drop all instances of the duplicate records from the series\n",
    "- create a `DataFrame` object with duplicate values in in multiple columns\n",
    "- drop rows that have duplicate values in one the the columns, specifying which record to keep\n",
    "- check for any remaining duplicates by creating a boolean series\n",
    "- map one of the columns using a dictionary\n"
   ]
  },
  {
   "cell_type": "code",
   "execution_count": null,
   "metadata": {
    "ExecuteTime": {
     "end_time": "2020-08-05T17:24:04.486905Z",
     "start_time": "2020-08-05T17:24:04.426428Z"
    }
   },
   "outputs": [],
   "source": []
  },
  {
   "cell_type": "markdown",
   "metadata": {},
   "source": [
    "## Exercise 7 ##\n",
    "- create a `DataFrame` object and assign a column to be the index\n",
    "- use a `lambda` function to map the values in one of the columns\n",
    "- replace values in one column with a a list\n",
    "- replace values in another column with a dictionary in place\n",
    "- rename the index labels using `.map()`\n",
    "- rename columns using `.rename()` and a string function"
   ]
  },
  {
   "cell_type": "code",
   "execution_count": null,
   "metadata": {
    "ExecuteTime": {
     "end_time": "2020-08-06T20:51:49.735599Z",
     "start_time": "2020-08-06T20:51:49.654594Z"
    },
    "code_folding": []
   },
   "outputs": [],
   "source": []
  },
  {
   "cell_type": "markdown",
   "metadata": {},
   "source": [
    "## Exercise 8 ##\n",
    "- create a `DataFrame` object with several numeric columns\n",
    "- rename the columns and/or index labels using `.rename()` and a dictionary\n",
    "- bin the values in one column into bins with even  ranges of values. Count the number the frequencies of the bins.\n",
    "- bin the values from another column into bins with even counts and give the bins names. Count the number the frequencies of the bins. Append the bin values as an additional column.\n",
    "- print the list of bin ranges\n",
    "- print the list of binned values\n",
    "- bin the values of a third variable into pre-defined ranges of values that are closed on the left, define the decimal precision, assign labels to the binned values and append to the dataframe."
   ]
  },
  {
   "cell_type": "code",
   "execution_count": null,
   "metadata": {
    "ExecuteTime": {
     "end_time": "2020-08-06T23:45:42.000302Z",
     "start_time": "2020-08-06T23:45:41.885295Z"
    }
   },
   "outputs": [],
   "source": []
  },
  {
   "cell_type": "markdown",
   "metadata": {},
   "source": [
    "## Exercise 9 ##\n",
    "- create a `DataFrame`, include some extreme positive and negative values\n",
    "- use `.describe()` to identify range of values for each column\n",
    "- cap values in one column using `np.abs()` and `np.sign()`\n",
    "- use `np.abs()` and `.any()` to identify rows that  still have any outliers\n",
    "- drop rows with outliers in any other columns\n",
    "- take a random sample of rows with replacement"
   ]
  },
  {
   "cell_type": "code",
   "execution_count": null,
   "metadata": {
    "ExecuteTime": {
     "end_time": "2020-08-07T01:19:29.242828Z",
     "start_time": "2020-08-07T01:19:29.132837Z"
    }
   },
   "outputs": [],
   "source": []
  },
  {
   "cell_type": "markdown",
   "metadata": {},
   "source": [
    "## Exercise 10 ##\n",
    "- create a `Series` object\n",
    "- create a new series consisting of the binned values of the series\n",
    "- create another series by taking a random subset of binned values using `np.random.permutation()`\n",
    "- add columns containing indicator variables for all of the bin labels, specify a prefix"
   ]
  },
  {
   "cell_type": "code",
   "execution_count": null,
   "metadata": {
    "ExecuteTime": {
     "end_time": "2020-08-07T01:37:53.688435Z",
     "start_time": "2020-08-07T01:37:53.650433Z"
    }
   },
   "outputs": [],
   "source": []
  },
  {
   "cell_type": "markdown",
   "metadata": {},
   "source": [
    "## Exercise 11 ##\n",
    "- create a `DataFrame` with several columns of sting values and some missing values\n",
    "- use vectorized string functions to convert the case of one of the columns. Use another one to concatenate two columns\n",
    "- create a boolean array indicating the presence of a substing in one of the columns\n",
    "- create a regex pattern and use it to extract a substring from one of the columns into a new column"
   ]
  },
  {
   "cell_type": "code",
   "execution_count": null,
   "metadata": {
    "ExecuteTime": {
     "end_time": "2020-08-07T02:26:50.685275Z",
     "start_time": "2020-08-07T02:26:50.641269Z"
    }
   },
   "outputs": [],
   "source": []
  },
  {
   "cell_type": "code",
   "execution_count": null,
   "metadata": {},
   "outputs": [],
   "source": []
  }
 ],
 "metadata": {
  "kernelspec": {
   "display_name": "Python 3",
   "language": "python",
   "name": "python3"
  },
  "language_info": {
   "codemirror_mode": {
    "name": "ipython",
    "version": 3
   },
   "file_extension": ".py",
   "mimetype": "text/x-python",
   "name": "python",
   "nbconvert_exporter": "python",
   "pygments_lexer": "ipython3",
   "version": "3.7.6"
  },
  "latex_envs": {
   "LaTeX_envs_menu_present": true,
   "autoclose": false,
   "autocomplete": true,
   "bibliofile": "biblio.bib",
   "cite_by": "apalike",
   "current_citInitial": 1,
   "eqLabelWithNumbers": true,
   "eqNumInitial": 1,
   "hotkeys": {
    "equation": "Ctrl-E",
    "itemize": "Ctrl-I"
   },
   "labels_anchors": false,
   "latex_user_defs": false,
   "report_style_numbering": false,
   "user_envs_cfg": false
  },
  "toc": {
   "base_numbering": 1,
   "nav_menu": {},
   "number_sections": false,
   "sideBar": true,
   "skip_h1_title": false,
   "title_cell": "Table of Contents",
   "title_sidebar": "Contents",
   "toc_cell": false,
   "toc_position": {},
   "toc_section_display": true,
   "toc_window_display": false
  },
  "varInspector": {
   "cols": {
    "lenName": 16,
    "lenType": 16,
    "lenVar": 40
   },
   "kernels_config": {
    "python": {
     "delete_cmd_postfix": "",
     "delete_cmd_prefix": "del ",
     "library": "var_list.py",
     "varRefreshCmd": "print(var_dic_list())"
    },
    "r": {
     "delete_cmd_postfix": ") ",
     "delete_cmd_prefix": "rm(",
     "library": "var_list.r",
     "varRefreshCmd": "cat(var_dic_list()) "
    }
   },
   "types_to_exclude": [
    "module",
    "function",
    "builtin_function_or_method",
    "instance",
    "_Feature"
   ],
   "window_display": false
  }
 },
 "nbformat": 4,
 "nbformat_minor": 4
}
