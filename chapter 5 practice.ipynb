{
 "cells": [
  {
   "cell_type": "code",
   "execution_count": 1,
   "metadata": {
    "ExecuteTime": {
     "end_time": "2020-07-27T21:13:22.097149Z",
     "start_time": "2020-07-27T21:13:20.768053Z"
    }
   },
   "outputs": [],
   "source": [
    "# Standard data science libraries\n",
    "import pandas as pd\n",
    "import numpy as np\n",
    "# Visualization\n",
    "import matplotlib.pyplot as plt\n",
    "plt.style.use('bmh')\n",
    "# Options for pandas\n",
    "pd.options.display.max_columns = 20\n",
    "# Display all cell outputs\n",
    "from IPython.core.interactiveshell import InteractiveShell\n",
    "InteractiveShell.ast_node_interactivity = 'all'\n"
   ]
  },
  {
   "cell_type": "code",
   "execution_count": 3,
   "metadata": {
    "ExecuteTime": {
     "end_time": "2020-07-27T22:46:11.828907Z",
     "start_time": "2020-07-27T22:46:11.825904Z"
    }
   },
   "outputs": [],
   "source": [
    "import pandas as pd"
   ]
  },
  {
   "cell_type": "markdown",
   "metadata": {},
   "source": [
    "## Exercise 1 ##\n",
    "- Create a `Series` object from a list. Define the index column from a list of labels.\n",
    "- Add empty rows for some index labels not appearing in the data be redefining the index.\n",
    "- Assign values to the name attributes of the `Series` and of the `Index`.\n",
    "- Extract the values from the `Series` as a `nparray`.\n",
    "- Check for null values. \n",
    "- Identify the index labels for null values. Select null values using the index labels and assign them a value.\n",
    "- remove some rows using the `.drop()` method. \n"
   ]
  },
  {
   "cell_type": "code",
   "execution_count": null,
   "metadata": {
    "ExecuteTime": {
     "end_time": "2020-07-27T23:00:23.735521Z",
     "start_time": "2020-07-27T23:00:23.706517Z"
    }
   },
   "outputs": [],
   "source": []
  },
  {
   "cell_type": "markdown",
   "metadata": {
    "ExecuteTime": {
     "end_time": "2020-07-27T22:54:37.770265Z",
     "start_time": "2020-07-27T22:54:37.763279Z"
    }
   },
   "source": [
    "## Exercise 2 ##\n",
    "- Create a `Series` object from a dictionary.\n",
    "- Add additional rows for index labels not in the original `Series` using `.reindex()` with the method option.\n",
    "- Select two subsets - one by integer and the other by label of rows from the series and add them together by index.\n",
    "- extract the values from the two subsets and subtract them by element.\n",
    "- select rows a subset of rows by continuous range\n",
    "- select rows a subset of rows by discontinuous range\n",
    "- select rows a subset of rows by boolean expression and assign new values\n",
    "- retrieve the a row by it's label using `.loc[]`\n",
    "- retrieve the value from the 3rd row by using `.iloc[]`"
   ]
  },
  {
   "cell_type": "code",
   "execution_count": null,
   "metadata": {
    "ExecuteTime": {
     "end_time": "2020-07-28T19:54:30.338161Z",
     "start_time": "2020-07-28T19:54:30.302565Z"
    }
   },
   "outputs": [],
   "source": []
  },
  {
   "cell_type": "markdown",
   "metadata": {},
   "source": [
    "## Exercise 3 ##\n",
    "- Use `np.arange()` to create two `Series` objects that have some differences in the set of key labels.\n",
    "- Use the `.add()` method to add them together using the fill_value option.\n",
    "- Subtract the `Series` objects using the subtaction operator, then fill missing values using the `fillna` method.\n",
    "- Sort the product of the two series by value.\n",
    "- Sort one of the series descending by index."
   ]
  },
  {
   "cell_type": "code",
   "execution_count": null,
   "metadata": {
    "ExecuteTime": {
     "end_time": "2020-07-28T00:17:31.853631Z",
     "start_time": "2020-07-28T00:17:31.828629Z"
    }
   },
   "outputs": [],
   "source": []
  },
  {
   "cell_type": "markdown",
   "metadata": {},
   "source": [
    "## Exercise 4 ##\n",
    "- Create a `Series` object for which the index labels are not all unique and the values are not all unique and not monotonic.\n",
    "- identify the unique labels in the index.\n",
    "- Calculate the frequencies of the values.\n",
    "- Calculate the ranking of the values using the tiebreaker method of your choice.\n",
    "- `.describe` the statistics of the series. Calculate the series sum, cumulative sum, identify the index and label at the maximum value.\n",
    "- calculate the correlation of the cumulative sum of the series with the value ranks of the series.\n",
    "- select all the rows that share a label using `.loc[]`, then select the last of these values using `.iloc[]`"
   ]
  },
  {
   "cell_type": "code",
   "execution_count": null,
   "metadata": {
    "ExecuteTime": {
     "end_time": "2020-07-28T19:57:46.986607Z",
     "start_time": "2020-07-28T19:57:46.948548Z"
    }
   },
   "outputs": [],
   "source": []
  },
  {
   "cell_type": "markdown",
   "metadata": {},
   "source": [
    "## Exercise 5 ##\n",
    "- Create a `DataFrame` object from a dictionary of lists, identifying the order of the columns.\n",
    "- Give the columns and the index names.\n",
    "- Add blank rows by redefining the dataframe and specifying an index.\n",
    "- create a list of column names using the `.columns` attribute and save it in a variable. \n",
    "- Extract the index. Extract all the values as a nparray.\n",
    "- create a new dataframes that is a transpose the dataframe you created. Use the `.reindex` method to add an index.\n",
    "- Add a new column name to the list that you created. Use the reindex method to add a row to the transposed dataframe for this new item.\n",
    "- Transpoe this new dataframe and use the `.head()` and `.tail()` methods to view he first and last two rows."
   ]
  },
  {
   "cell_type": "code",
   "execution_count": null,
   "metadata": {
    "ExecuteTime": {
     "end_time": "2020-07-28T20:26:32.287676Z",
     "start_time": "2020-07-28T20:26:32.218669Z"
    }
   },
   "outputs": [],
   "source": []
  },
  {
   "cell_type": "markdown",
   "metadata": {},
   "source": [
    "## Exercise 6 ##\n",
    "- Create a `DataFrame` object with index from a dictionary of dictionaries.\n",
    "- add a new column implicitly by assigning it a scalar.\n",
    "- select a column using square brackets. Select another column using dot notation.\n",
    "- select a row using the index label and the `.loc[]` method and determine the `type()` of the object that is returned.\n",
    "- Create a `Series` object with some of the same labels as the dataframe, then create a new column in the dataframe implicitly by assigning the series.\n",
    "- Use the `del` keyword to delete one of the columns."
   ]
  },
  {
   "cell_type": "code",
   "execution_count": null,
   "metadata": {
    "ExecuteTime": {
     "end_time": "2020-07-28T21:28:31.257408Z",
     "start_time": "2020-07-28T21:28:31.203269Z"
    }
   },
   "outputs": [],
   "source": []
  },
  {
   "cell_type": "markdown",
   "metadata": {},
   "source": [
    "## Exercise 7 ##\n",
    "- create several `Series` objects, then create a `Dataframe` from a dictionary of the series objects. Make sure your dataframe has some missing values.\n",
    "- Use the `.reindex()` method to select a subset of the rows and columns. Then use reindex to add a new column to the dataframe and reorder the existing columns.\n",
    "- Use index labels to select a range of rows. \n",
    "- Use `.loc[]` to select\n",
    "- \t- a single row, \n",
    "\t- multiple rows, \n",
    "\t- a single cell, \n",
    "\t- a single column, \n",
    "\t- multiple rows in a single column,\n",
    "\t- multiple columns in a single row"
   ]
  },
  {
   "cell_type": "code",
   "execution_count": null,
   "metadata": {
    "ExecuteTime": {
     "end_time": "2020-07-28T22:03:47.083714Z",
     "start_time": "2020-07-28T22:03:46.978425Z"
    }
   },
   "outputs": [],
   "source": []
  },
  {
   "cell_type": "markdown",
   "metadata": {},
   "source": [
    "## Exercise 8 ##\n",
    "- create a `DataFrame` object that includes missing values. Use `.iloc[]` to select: \n",
    "\t- a single row, \n",
    "\t- multiple rows, \n",
    "\t- a single cell, \n",
    "\t- a single column, \n",
    "\t- multiple rows in a single column,\n",
    "\t- multiple columns in a single row\n",
    "- Select rows where one of the column has values over some threshold.\n",
    "- Set all values in the dataframe under some threshold to zero. Change the values in one the columns to a constant.\n",
    "- create two copies of the dataframe and alter each one by deleting different rows and columns from each using the `.drop()` method in place. \n",
    "- Use the addition operator to add the two new dataframes element wise.\n",
    "- use the `.sub()` method to subtract the two dataframes treating missing values as zero."
   ]
  },
  {
   "cell_type": "code",
   "execution_count": null,
   "metadata": {
    "ExecuteTime": {
     "end_time": "2020-07-28T23:48:16.674074Z",
     "start_time": "2020-07-28T23:48:16.534079Z"
    }
   },
   "outputs": [],
   "source": []
  },
  {
   "cell_type": "markdown",
   "metadata": {},
   "source": [
    "## Exercise 9 ##\n",
    "- create two dataframes with overlapping columns and row labels. Create a new dataframe that is the product of the two, treating missing values as 1. Then replace missing values with 0.\n",
    "- create a series object by performing arithemtic operations in columns of the dataframe.\n",
    "- use `.loc[]` to change the value of some of the cells.\n",
    "- add the series to every column.\n",
    "- create a series with a number of rows equal to the number of columns in the dataframe, then subtract that series from every row of the dataframe.\n",
    "- add a column using a numpy function.\n",
    "- add a column using `.apply()` by row."
   ]
  },
  {
   "cell_type": "code",
   "execution_count": null,
   "metadata": {
    "ExecuteTime": {
     "end_time": "2020-07-29T00:33:53.293283Z",
     "start_time": "2020-07-29T00:33:53.170290Z"
    }
   },
   "outputs": [],
   "source": []
  },
  {
   "cell_type": "markdown",
   "metadata": {},
   "source": [
    "## Exercise 10 ##\n",
    "- Create a dataframe. Sort by the values in one of the columns.\n",
    "- Add a column to the dataframe that is a rank of one of the other columns.\n",
    "- Calculate the correlation matrix between several of the columns.\n",
    "- Calculate the column sums and row sums."
   ]
  },
  {
   "cell_type": "code",
   "execution_count": null,
   "metadata": {
    "ExecuteTime": {
     "end_time": "2020-07-29T00:53:09.739827Z",
     "start_time": "2020-07-29T00:53:09.686821Z"
    }
   },
   "outputs": [],
   "source": []
  }
 ],
 "metadata": {
  "kernelspec": {
   "display_name": "Python 3",
   "language": "python",
   "name": "python3"
  },
  "language_info": {
   "codemirror_mode": {
    "name": "ipython",
    "version": 3
   },
   "file_extension": ".py",
   "mimetype": "text/x-python",
   "name": "python",
   "nbconvert_exporter": "python",
   "pygments_lexer": "ipython3",
   "version": "3.7.6"
  },
  "latex_envs": {
   "LaTeX_envs_menu_present": true,
   "autoclose": false,
   "autocomplete": true,
   "bibliofile": "biblio.bib",
   "cite_by": "apalike",
   "current_citInitial": 1,
   "eqLabelWithNumbers": true,
   "eqNumInitial": 1,
   "hotkeys": {
    "equation": "Ctrl-E",
    "itemize": "Ctrl-I"
   },
   "labels_anchors": false,
   "latex_user_defs": false,
   "report_style_numbering": false,
   "user_envs_cfg": false
  },
  "toc": {
   "base_numbering": 1,
   "nav_menu": {},
   "number_sections": false,
   "sideBar": true,
   "skip_h1_title": false,
   "title_cell": "Table of Contents",
   "title_sidebar": "Contents",
   "toc_cell": false,
   "toc_position": {},
   "toc_section_display": true,
   "toc_window_display": true
  },
  "varInspector": {
   "cols": {
    "lenName": 16,
    "lenType": 16,
    "lenVar": 40
   },
   "kernels_config": {
    "python": {
     "delete_cmd_postfix": "",
     "delete_cmd_prefix": "del ",
     "library": "var_list.py",
     "varRefreshCmd": "print(var_dic_list())"
    },
    "r": {
     "delete_cmd_postfix": ") ",
     "delete_cmd_prefix": "rm(",
     "library": "var_list.r",
     "varRefreshCmd": "cat(var_dic_list()) "
    }
   },
   "types_to_exclude": [
    "module",
    "function",
    "builtin_function_or_method",
    "instance",
    "_Feature"
   ],
   "window_display": false
  }
 },
 "nbformat": 4,
 "nbformat_minor": 4
}
