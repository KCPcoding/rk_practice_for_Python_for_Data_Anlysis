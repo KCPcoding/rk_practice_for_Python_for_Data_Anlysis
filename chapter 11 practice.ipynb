{
 "cells": [
  {
   "cell_type": "code",
   "execution_count": 79,
   "metadata": {
    "ExecuteTime": {
     "end_time": "2020-09-05T22:37:02.371420Z",
     "start_time": "2020-09-05T22:37:02.360422Z"
    }
   },
   "outputs": [],
   "source": [
    "# Standard data science libraries\n",
    "import pandas as pd\n",
    "import numpy as np\n",
    "from scipy import stats\n",
    "import featuretools as ft\n",
    "# Visualization\n",
    "import matplotlib.pyplot as plt\n",
    "%matplotlib notebook\n",
    "import seaborn as sns\n",
    "plt.style.use('bmh')\n",
    "# Options for pandas\n",
    "pd.options.display.max_columns = 20\n",
    "# Display all cell outputs\n",
    "from IPython.core.interactiveshell import InteractiveShell\n",
    "InteractiveShell.ast_node_interactivity = 'all'\n"
   ]
  },
  {
   "cell_type": "markdown",
   "metadata": {},
   "source": [
    "## Exercise 1 ##\n",
    "- create two `datetime` objects \n",
    "- then create a `timedelta` object from these two datetimes\n",
    "- create a new datetime using the time delta and today's date\n",
    "- print all three datetimes in different formats\n",
    "- create a new datetime object from a string using formats, then create another using `dateutil.parser`\n",
    "- parse out the year, month and date from one of this last datetime"
   ]
  },
  {
   "cell_type": "code",
   "execution_count": null,
   "metadata": {
    "ExecuteTime": {
     "end_time": "2020-09-03T22:17:59.717144Z",
     "start_time": "2020-09-03T22:17:59.699159Z"
    }
   },
   "outputs": [],
   "source": []
  },
  {
   "cell_type": "markdown",
   "metadata": {},
   "source": [
    "## Exercise 2 ##\n",
    "- use `pandas.to_datetime` to create a `Series` containing date strings\n",
    "- create a new series that uses the dates as the index\n",
    "- extract a `Timestamp` object from the series index\n",
    "- select a single element from the series"
   ]
  },
  {
   "cell_type": "code",
   "execution_count": null,
   "metadata": {
    "ExecuteTime": {
     "end_time": "2020-09-06T00:35:46.356968Z",
     "start_time": "2020-09-06T00:35:46.335968Z"
    }
   },
   "outputs": [],
   "source": []
  },
  {
   "cell_type": "markdown",
   "metadata": {},
   "source": [
    "## Exercise 3 ##\n",
    "- use `pandas.date_range` to create the index for a longer `Series` object\n",
    "- select a subset of the series by using the year and month\n",
    "- select a subset of the series using a range of `datetime` objects\n",
    "- select a subset of the series using a range of date strings\n",
    "- select a subset of the series using the `,truncate` method"
   ]
  },
  {
   "cell_type": "code",
   "execution_count": null,
   "metadata": {
    "ExecuteTime": {
     "end_time": "2020-09-03T23:20:12.467953Z",
     "start_time": "2020-09-03T23:20:12.396949Z"
    }
   },
   "outputs": [],
   "source": []
  },
  {
   "cell_type": "markdown",
   "metadata": {},
   "source": [
    "## Exercise 4 ##\n",
    "- create a `DataFrame` object with a `datetime` index, make sure there are duplicate index values\n",
    "- select a subset of records using `.loc[]`\n",
    "- use `.groupby` to remove duplicate indices"
   ]
  },
  {
   "cell_type": "code",
   "execution_count": null,
   "metadata": {
    "ExecuteTime": {
     "end_time": "2020-09-03T23:32:26.206478Z",
     "start_time": "2020-09-03T23:32:26.171473Z"
    },
    "code_folding": [
     0
    ]
   },
   "outputs": [],
   "source": []
  },
  {
   "cell_type": "markdown",
   "metadata": {},
   "source": [
    "## Exercise 5 ##\n",
    "- create a `DatetimeIndex` with uniform frequency using a base frequency\n",
    "- create a new `DatetimeIndex` that occurs at a frequency that is a multiple with offset of the same base as the first `DatetimeIndex`\n",
    "- create another `DatetimeIndex` using week of the month"
   ]
  },
  {
   "cell_type": "code",
   "execution_count": null,
   "metadata": {
    "ExecuteTime": {
     "end_time": "2020-09-04T00:01:16.621504Z",
     "start_time": "2020-09-04T00:01:16.600501Z"
    }
   },
   "outputs": [],
   "source": []
  },
  {
   "cell_type": "markdown",
   "metadata": {},
   "source": [
    "## Exercise 6 ##\n",
    "- create a `Series` with a `datetime` index\n",
    "- create a new `Series` that is a shift of the first series\n",
    "- use both series to calculate a time over time ratio\n",
    "- use end of period shifts and `groupby` the aggregate the series to a time period"
   ]
  },
  {
   "cell_type": "code",
   "execution_count": null,
   "metadata": {
    "ExecuteTime": {
     "end_time": "2020-09-04T00:14:39.126200Z",
     "start_time": "2020-09-04T00:14:39.099197Z"
    }
   },
   "outputs": [],
   "source": []
  },
  {
   "cell_type": "markdown",
   "metadata": {},
   "source": [
    "## Exercise 7 ##\n",
    "- create two `Period` objects\n",
    "- calculate the difference between the two periods\n",
    "- add this difference to a third period\n",
    "- create a range of `Period` objects\n",
    "- use this range as the index for a `Series` object\n",
    "- convert the series index to a different frequency with `.asfreq`\n",
    "- create a `PeriodIndex` object from a list of strings"
   ]
  },
  {
   "cell_type": "code",
   "execution_count": null,
   "metadata": {
    "ExecuteTime": {
     "end_time": "2020-09-05T22:53:44.339490Z",
     "start_time": "2020-09-05T22:53:44.300486Z"
    }
   },
   "outputs": [],
   "source": []
  },
  {
   "cell_type": "markdown",
   "metadata": {},
   "source": [
    "\n",
    "## Exercise 8 ##\n",
    "- create a range of `Timestamp` objects\n",
    "- convert the range to `Period` objects\n",
    "- change the frequency of the periods\n",
    "- convert the changed periods back to timestamps"
   ]
  },
  {
   "cell_type": "code",
   "execution_count": null,
   "metadata": {
    "ExecuteTime": {
     "end_time": "2020-09-05T23:53:28.305923Z",
     "start_time": "2020-09-05T23:53:28.285924Z"
    }
   },
   "outputs": [],
   "source": []
  },
  {
   "cell_type": "markdown",
   "metadata": {},
   "source": [
    "## Exercise 9 ##\n",
    "- create a `DataFrame` that includes parts of date and/or time as columns\n",
    "- use these columns to create a `PeriodIndex`\n",
    "- make the `PeriodIndex` the index for the dataframe"
   ]
  },
  {
   "cell_type": "code",
   "execution_count": null,
   "metadata": {
    "ExecuteTime": {
     "end_time": "2020-09-06T00:02:47.528950Z",
     "start_time": "2020-09-06T00:02:47.507950Z"
    }
   },
   "outputs": [],
   "source": []
  },
  {
   "cell_type": "markdown",
   "metadata": {},
   "source": [
    "## Exercise 10 ##\n",
    "- create a `DataFrame` with a `datetime` index\n",
    "- use `.resample` to downsample the dataframe (aggregate data to a lower frequency) and convert the index to a period index\n",
    "- calculate the min, max, first and last value in the period\n",
    "- specify that the periods should be labeled with the start date of the period\n",
    "- upsample (convert data to higher frequency) the aggregated dataframe using `.asfreq()` to leave data missing in gaps\n",
    "- downsample the dataframe again using a rolling time period using the `.rolling()` operator\n",
    "- downsample again using an `.expanding()` window"
   ]
  },
  {
   "cell_type": "code",
   "execution_count": null,
   "metadata": {},
   "outputs": [],
   "source": []
  },
  {
   "cell_type": "markdown",
   "metadata": {},
   "source": [
    "## Exercise 11 ##\n",
    "- create a `DataFrame` with a `PeriodIndex`\n",
    "- downsample the dataframe to create a new dataframe\n",
    "- upsample the new dataframe, specifying which end of the period to place the values\n"
   ]
  },
  {
   "cell_type": "code",
   "execution_count": null,
   "metadata": {
    "ExecuteTime": {
     "end_time": "2020-09-06T00:28:48.832439Z",
     "start_time": "2020-09-06T00:28:48.740439Z"
    }
   },
   "outputs": [],
   "source": []
  }
 ],
 "metadata": {
  "kernelspec": {
   "display_name": "Python 3",
   "language": "python",
   "name": "python3"
  },
  "language_info": {
   "codemirror_mode": {
    "name": "ipython",
    "version": 3
   },
   "file_extension": ".py",
   "mimetype": "text/x-python",
   "name": "python",
   "nbconvert_exporter": "python",
   "pygments_lexer": "ipython3",
   "version": "3.7.6"
  },
  "latex_envs": {
   "LaTeX_envs_menu_present": true,
   "autoclose": false,
   "autocomplete": true,
   "bibliofile": "biblio.bib",
   "cite_by": "apalike",
   "current_citInitial": 1,
   "eqLabelWithNumbers": true,
   "eqNumInitial": 1,
   "hotkeys": {
    "equation": "Ctrl-E",
    "itemize": "Ctrl-I"
   },
   "labels_anchors": false,
   "latex_user_defs": false,
   "report_style_numbering": false,
   "user_envs_cfg": false
  },
  "toc": {
   "base_numbering": 1,
   "nav_menu": {},
   "number_sections": false,
   "sideBar": true,
   "skip_h1_title": false,
   "title_cell": "Table of Contents",
   "title_sidebar": "Contents",
   "toc_cell": false,
   "toc_position": {},
   "toc_section_display": true,
   "toc_window_display": true
  },
  "varInspector": {
   "cols": {
    "lenName": 16,
    "lenType": 16,
    "lenVar": 40
   },
   "kernels_config": {
    "python": {
     "delete_cmd_postfix": "",
     "delete_cmd_prefix": "del ",
     "library": "var_list.py",
     "varRefreshCmd": "print(var_dic_list())"
    },
    "r": {
     "delete_cmd_postfix": ") ",
     "delete_cmd_prefix": "rm(",
     "library": "var_list.r",
     "varRefreshCmd": "cat(var_dic_list()) "
    }
   },
   "types_to_exclude": [
    "module",
    "function",
    "builtin_function_or_method",
    "instance",
    "_Feature"
   ],
   "window_display": false
  }
 },
 "nbformat": 4,
 "nbformat_minor": 4
}
